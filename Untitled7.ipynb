{
  "nbformat": 4,
  "nbformat_minor": 0,
  "metadata": {
    "colab": {
      "provenance": []
    },
    "kernelspec": {
      "name": "python3",
      "display_name": "Python 3"
    },
    "language_info": {
      "name": "python"
    }
  },
  "cells": [
    {
      "cell_type": "code",
      "execution_count": 7,
      "metadata": {
        "colab": {
          "base_uri": "https://localhost:8080/"
        },
        "id": "rH8oKlVpN5F2",
        "outputId": "45b24182-5306-47dc-b7de-0c1e076a96af"
      },
      "outputs": [
        {
          "output_type": "stream",
          "name": "stdout",
          "text": [
            "1,4,9,16,"
          ]
        }
      ],
      "source": [
        "a=[1,2,3,4]\n",
        "for i in a:\n",
        "  print(i**2,end=\",\")"
      ]
    },
    {
      "cell_type": "code",
      "source": [
        "list=[i**2 for i in a]"
      ],
      "metadata": {
        "id": "GTdABpCkPHg3"
      },
      "execution_count": 8,
      "outputs": []
    },
    {
      "cell_type": "code",
      "source": [
        "list\n"
      ],
      "metadata": {
        "colab": {
          "base_uri": "https://localhost:8080/"
        },
        "id": "gWuLoiTyOlAX",
        "outputId": "a140f729-947d-49f8-a77b-2ca85a7a078f"
      },
      "execution_count": 9,
      "outputs": [
        {
          "output_type": "execute_result",
          "data": {
            "text/plain": [
              "[1, 4, 9, 16]"
            ]
          },
          "metadata": {},
          "execution_count": 9
        }
      ]
    }
  ]
}